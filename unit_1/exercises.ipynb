{
 "cells": [
  {
   "cell_type": "code",
   "execution_count": 5,
   "id": "79d30474-7f48-4dcf-9137-3a4edfbe0a81",
   "metadata": {},
   "outputs": [
    {
     "data": {
      "text/plain": [
       "[2, 3, 5, 3607, 3803]"
      ]
     },
     "execution_count": 5,
     "metadata": {},
     "output_type": "execute_result"
    }
   ],
   "source": [
    "def unique_prime_factors(x):\n",
    "    \"\"\"Return a list of unique prime factors of x.\"\"\"\n",
    "\n",
    "    # We assume x is an integer that is > 0 and do no type or value checking.\n",
    "\n",
    "    # Call prime_factors to get a list of the prime factors of x.\n",
    "    # Cast that list to a set to remove duplicates.\n",
    "    # Cast the set back to a list.\n",
    "\n",
    "    return list(set(prime_factors(x)))\n",
    "\n",
    "\n",
    "def prime_factors(x):\n",
    "    \"\"\"Return a list of the prime factors of x, with duplicates.\"\"\"\n",
    "\n",
    "    # We assume x is an integer that is > 0 and do no type or value checking\n",
    "\n",
    "    if x == 1:\n",
    "        return [1]\n",
    "\n",
    "    result = []\n",
    "\n",
    "    # Assemble the list of prime factors of x by calling smallest_prime_factor\n",
    "    # and saving the result.  We then reduce x by dividing it by that prime\n",
    "    # factor and repeat this process, extracting a prime factor with each\n",
    "    # iteration.  When x the smallest prime factor is x itself, we are done and\n",
    "    # we return the list of factors identified along the way.  We use whole\n",
    "    # division in the loop even though we know that the result of traditional\n",
    "    # division will be a whole number in order to avoid the need to cast whole\n",
    "    # floats back to ints.\n",
    "\n",
    "    while x > 1:\n",
    "        smallest_factor = smallest_prime_factor(x)\n",
    "        result.append(smallest_factor)\n",
    "        x = x // smallest_factor\n",
    "\n",
    "    return result\n",
    "\n",
    "\n",
    "def smallest_prime_factor(x):\n",
    "    \"\"\"Return the smallest prime factor of x.\"\"\"\n",
    "\n",
    "    # We assume x is an integer that is > 0 and do no type or value checking\n",
    "\n",
    "    # If x is even, then the smallest prime factor is 2.\n",
    "\n",
    "    if x % 2 == 0:\n",
    "        return 2\n",
    "\n",
    "    # If x is odd, test odd numbers from three up to the square root of x.\n",
    "    # If none of those is a factor, then x is prime so return x.\n",
    "    # There is no need to test numbers greater than the square root of x\n",
    "    # because if we haven't identified a prime factor at that point we will\n",
    "    # not find one, other than x itself.\n",
    "\n",
    "    for n in range(3, int(x ** 0.5) + 1, 2):\n",
    "        if x % n == 0:\n",
    "            return n\n",
    "\n",
    "    return x\n",
    "\n",
    "\n",
    "unique_prime_factors(1234567890)"
   ]
  },
  {
   "cell_type": "code",
   "execution_count": 6,
   "id": "8f947b52-8e4d-4981-9c7c-dc2bd64bf41f",
   "metadata": {},
   "outputs": [],
   "source": [
    "import re\n",
    "\n",
    "\n",
    "def phone_fun():\n",
    "    \"\"\"Prompt the user for a telephone number and return the result determined\n",
    "    by (a) subtracting the sum of the digits of the number from the number and\n",
    "    then (b) calculating the sum of the digits of that difference, after which\n",
    "    step (b) is repeated until that sum is a single digit long.\n",
    "    \n",
    "    We expect a ten digit phone number that can be expressed in any of the\n",
    "    common forms for expressing phone numbers and use regular expression pattern\n",
    "    matching to extract a string of ten digits from the users input.\n",
    "    \n",
    "    The user will be reprompted for malformed phone numbers.\"\"\"\n",
    "\n",
    "    pattern = \"^\\(?([0-9]{3})\\)?[-. ]?([0-9]{3})[-. ]?([0-9]{4})$\"\n",
    "\n",
    "    while True:\n",
    "        phone = input(\"Enter a phone number:\")\n",
    "        match = re.search(pattern, phone)\n",
    "        if match:\n",
    "            break\n",
    "            \n",
    "    digits = match.group(1) + match.group(2) + match.group(3)\n",
    "    print(reduce(digits))\n",
    "\n",
    "\n",
    "def reduce(s):\n",
    "    \"\"\"Calculate the difference between the integer represented by s and the\n",
    "    sum of its digits.  If that difference contains more than a single digit\n",
    "    calculate the sum of digits on that number repeatedly until a single digit\n",
    "    number results.  Return that single number.\"\"\"\n",
    "    \n",
    "    y = int(s) - sum_of_digits(s)\n",
    "    while y > 9:\n",
    "        y = sum_of_digits(str(y))\n",
    "    return y\n",
    "\n",
    "\n",
    "def sum_of_digits(s):\n",
    "    \"\"\"Return the sum of the digits in an integer string.\"\"\"\n",
    "    \n",
    "    sum = 0\n",
    "    for char in s:\n",
    "        sum += int(char)\n",
    "    return sum"
   ]
  },
  {
   "cell_type": "code",
   "execution_count": 7,
   "id": "44d52282-3594-467d-a4cb-adf75801b25b",
   "metadata": {},
   "outputs": [
    {
     "name": "stdout",
     "output_type": "stream",
     "text": [
      "9\n"
     ]
    }
   ],
   "source": [
    "phone_fun()"
   ]
  }
 ],
 "metadata": {
  "kernelspec": {
   "display_name": "Python 3 (ipykernel)",
   "language": "python",
   "name": "python3"
  },
  "language_info": {
   "codemirror_mode": {
    "name": "ipython",
    "version": 3
   },
   "file_extension": ".py",
   "mimetype": "text/x-python",
   "name": "python",
   "nbconvert_exporter": "python",
   "pygments_lexer": "ipython3",
   "version": "3.9.7"
  }
 },
 "nbformat": 4,
 "nbformat_minor": 5
}
